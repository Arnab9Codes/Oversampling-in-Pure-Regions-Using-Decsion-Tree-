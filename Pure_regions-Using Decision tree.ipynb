{
 "cells": [
  {
   "cell_type": "code",
   "execution_count": 1,
   "metadata": {
    "collapsed": true
   },
   "outputs": [],
   "source": [
    "import numpy as np\n",
    "import pandas as pd\n",
    "\n",
    "from sklearn.tree import DecisionTreeClassifier\n",
    "from sklearn.model_selection import train_test_split,GridSearchCV\n",
    "from sklearn.metrics import roc_curve,auc\n",
    "\n",
    "import matplotlib.pyplot as plt\n",
    "\n",
    "import seaborn as sns\n",
    "sns.set()\n",
    "\n",
    "%matplotlib inline\n",
    "import warnings\n",
    "warnings.filterwarnings('ignore')"
   ]
  },
  {
   "cell_type": "code",
   "execution_count": 2,
   "metadata": {
    "collapsed": true
   },
   "outputs": [],
   "source": [
    "df=pd.read_csv('../data/haberman_csv.csv')"
   ]
  },
  {
   "cell_type": "code",
   "execution_count": 3,
   "metadata": {},
   "outputs": [
    {
     "data": {
      "text/plain": [
       "Index(['Age_of_patient_at_time_of_operation', 'Patients_year_of_operation',\n",
       "       'Number_of_positive_axillary_nodes_detected', 'Survival_status'],\n",
       "      dtype='object')"
      ]
     },
     "execution_count": 3,
     "metadata": {},
     "output_type": "execute_result"
    }
   ],
   "source": [
    "df.columns"
   ]
  },
  {
   "cell_type": "code",
   "execution_count": 4,
   "metadata": {
    "collapsed": true
   },
   "outputs": [],
   "source": [
    "df=df.drop(columns=['Patients_year_of_operation'])"
   ]
  },
  {
   "cell_type": "code",
   "execution_count": 5,
   "metadata": {},
   "outputs": [
    {
     "data": {
      "text/plain": [
       "(306, 3)"
      ]
     },
     "execution_count": 5,
     "metadata": {},
     "output_type": "execute_result"
    }
   ],
   "source": [
    "df.shape"
   ]
  },
  {
   "cell_type": "code",
   "execution_count": 6,
   "metadata": {
    "collapsed": true
   },
   "outputs": [],
   "source": [
    "df=df.rename(columns={'Age_of_patient_at_time_of_operation':'age', 'Number_of_positive_axillary_nodes_detected':'detections'})"
   ]
  },
  {
   "cell_type": "code",
   "execution_count": 7,
   "metadata": {
    "collapsed": true
   },
   "outputs": [],
   "source": [
    "data=df.values\n",
    "X=data[:,:2]\n",
    "Y=data[:,2]"
   ]
  },
  {
   "cell_type": "code",
   "execution_count": 8,
   "metadata": {
    "collapsed": true
   },
   "outputs": [],
   "source": [
    "X_train,x_test,Y_train,y_test=train_test_split(X,Y,test_size=0.3,random_state=9)"
   ]
  },
  {
   "cell_type": "code",
   "execution_count": 9,
   "metadata": {},
   "outputs": [
    {
     "name": "stdout",
     "output_type": "stream",
     "text": [
      "Fitting 10 folds for each of 8 candidates, totalling 80 fits\n"
     ]
    },
    {
     "name": "stderr",
     "output_type": "stream",
     "text": [
      "[Parallel(n_jobs=-1)]: Using backend LokyBackend with 4 concurrent workers.\n",
      "[Parallel(n_jobs=-1)]: Done  80 out of  80 | elapsed:    1.9s finished\n"
     ]
    },
    {
     "data": {
      "text/plain": [
       "GridSearchCV(cv=10, error_score='raise-deprecating',\n",
       "             estimator=DecisionTreeClassifier(class_weight=None,\n",
       "                                              criterion='gini', max_depth=None,\n",
       "                                              max_features=None,\n",
       "                                              max_leaf_nodes=None,\n",
       "                                              min_impurity_decrease=0.0,\n",
       "                                              min_impurity_split=None,\n",
       "                                              min_samples_leaf=1,\n",
       "                                              min_samples_split=2,\n",
       "                                              min_weight_fraction_leaf=0.0,\n",
       "                                              presort=False, random_state=9,\n",
       "                                              splitter='best'),\n",
       "             iid='warn', n_jobs=-1,\n",
       "             param_grid={'max_depth': [3, 4, 5, 6], 'max_features': [1, 2]},\n",
       "             pre_dispatch='2*n_jobs', refit=True, return_train_score=False,\n",
       "             scoring='accuracy', verbose=2)"
      ]
     },
     "execution_count": 9,
     "metadata": {},
     "output_type": "execute_result"
    }
   ],
   "source": [
    "tree=DecisionTreeClassifier(random_state=9)\n",
    "\n",
    "tree_params={'max_depth':[3,4,5,6],'max_features':[1,2]}\n",
    "\n",
    "tree_grid=GridSearchCV(tree,tree_params,scoring='accuracy',n_jobs=-1,cv=10,verbose=2)\n",
    "\n",
    "tree_grid.fit(X_train,Y_train)"
   ]
  },
  {
   "cell_type": "code",
   "execution_count": 10,
   "metadata": {
    "collapsed": true
   },
   "outputs": [],
   "source": [
    "import pydotplus\n",
    "from sklearn.tree import export_graphviz\n",
    "\n",
    "def draw_tree(tree,features,location):\n",
    "    tree_string=export_graphviz(tree,feature_names=features,filled=True,out_file=None)\n",
    "    graph=pydotplus.graph_from_dot_data(tree_string)\n",
    "    graph.write_png(location)"
   ]
  },
  {
   "cell_type": "code",
   "execution_count": 11,
   "metadata": {
    "collapsed": true
   },
   "outputs": [],
   "source": [
    "draw_tree(tree_grid.best_estimator_,['age', 'detections'],\\\n",
    "          location='../imgs/tree_grid1.png')"
   ]
  },
  {
   "cell_type": "markdown",
   "metadata": {
    "collapsed": true
   },
   "source": [
    "<img src='../imgs/tree_grid1.png'>"
   ]
  },
  {
   "cell_type": "markdown",
   "metadata": {},
   "source": [
    "In the above Decision Tree representation that is generated, blue colored leaves are for minority class(it could change on other representations).\n",
    "\n",
    "values parameter represents number of samples of both classes.\n",
    "Value=[0,4] meaning 0 sample from 1st class and 4 samples from 2nd class.\n",
    "\n",
    "Blue colore leaves only contains samples from minority class. So, if we can extract rules that made these pure minority class regions in decision tree which i beleieve represents decsion bounderies in N-dimensional space also, then we have samples that are relatively represent pure regions as there are no samples from other class"
   ]
  },
  {
   "cell_type": "markdown",
   "metadata": {},
   "source": [
    "<img src='../imgs/tree_grid1 - paths.png'>"
   ]
  },
  {
   "cell_type": "markdown",
   "metadata": {},
   "source": [
    "In the above pictures red circled leaves contains samples from minority class and do not contain any sample from majority class. So, if we extract rules following the green line and replicate samples within those rules I believe it will fall in the same pure regions."
   ]
  },
  {
   "cell_type": "code",
   "execution_count": 12,
   "metadata": {
    "collapsed": true
   },
   "outputs": [],
   "source": [
    "from sklearn.tree.export import export_text"
   ]
  },
  {
   "cell_type": "markdown",
   "metadata": {},
   "source": [
    "Below  a sklearn provided rule extraction process is done."
   ]
  },
  {
   "cell_type": "code",
   "execution_count": 13,
   "metadata": {
    "collapsed": true
   },
   "outputs": [],
   "source": [
    "rules=export_text(tree_grid.best_estimator_,feature_names=['age', 'detections'])"
   ]
  },
  {
   "cell_type": "code",
   "execution_count": 14,
   "metadata": {},
   "outputs": [
    {
     "name": "stdout",
     "output_type": "stream",
     "text": [
      "|--- detections <= 4.50\n",
      "|   |--- age <= 69.50\n",
      "|   |   |--- age <= 42.50\n",
      "|   |   |   |--- detections <= 0.50\n",
      "|   |   |   |   |--- age <= 35.50\n",
      "|   |   |   |   |   |--- age <= 33.50\n",
      "|   |   |   |   |   |   |--- class: 1\n",
      "|   |   |   |   |   |--- age >  33.50\n",
      "|   |   |   |   |   |   |--- class: 2\n",
      "|   |   |   |   |--- age >  35.50\n",
      "|   |   |   |   |   |--- age <= 38.50\n",
      "|   |   |   |   |   |   |--- class: 1\n",
      "|   |   |   |   |   |--- age >  38.50\n",
      "|   |   |   |   |   |   |--- class: 1\n",
      "|   |   |   |--- detections >  0.50\n",
      "|   |   |   |   |--- class: 1\n",
      "|   |   |--- age >  42.50\n",
      "|   |   |   |--- age <= 43.50\n",
      "|   |   |   |   |--- detections <= 1.00\n",
      "|   |   |   |   |   |--- class: 2\n",
      "|   |   |   |   |--- detections >  1.00\n",
      "|   |   |   |   |   |--- detections <= 2.50\n",
      "|   |   |   |   |   |   |--- class: 1\n",
      "|   |   |   |   |   |--- detections >  2.50\n",
      "|   |   |   |   |   |   |--- class: 1\n",
      "|   |   |   |--- age >  43.50\n",
      "|   |   |   |   |--- detections <= 0.50\n",
      "|   |   |   |   |   |--- age <= 50.50\n",
      "|   |   |   |   |   |   |--- class: 1\n",
      "|   |   |   |   |   |--- age >  50.50\n",
      "|   |   |   |   |   |   |--- class: 1\n",
      "|   |   |   |   |--- detections >  0.50\n",
      "|   |   |   |   |   |--- age <= 61.00\n",
      "|   |   |   |   |   |   |--- class: 1\n",
      "|   |   |   |   |   |--- age >  61.00\n",
      "|   |   |   |   |   |   |--- class: 2\n",
      "|   |--- age >  69.50\n",
      "|   |   |--- age <= 70.50\n",
      "|   |   |   |--- class: 2\n",
      "|   |   |--- age >  70.50\n",
      "|   |   |   |--- age <= 77.00\n",
      "|   |   |   |   |--- detections <= 2.50\n",
      "|   |   |   |   |   |--- age <= 72.50\n",
      "|   |   |   |   |   |   |--- class: 1\n",
      "|   |   |   |   |   |--- age >  72.50\n",
      "|   |   |   |   |   |   |--- class: 1\n",
      "|   |   |   |   |--- detections >  2.50\n",
      "|   |   |   |   |   |--- age <= 73.00\n",
      "|   |   |   |   |   |   |--- class: 1\n",
      "|   |   |   |   |   |--- age >  73.00\n",
      "|   |   |   |   |   |   |--- class: 2\n",
      "|   |   |   |--- age >  77.00\n",
      "|   |   |   |   |--- class: 2\n",
      "|--- detections >  4.50\n",
      "|   |--- age <= 43.50\n",
      "|   |   |--- detections <= 20.50\n",
      "|   |   |   |--- age <= 34.50\n",
      "|   |   |   |   |--- detections <= 8.00\n",
      "|   |   |   |   |   |--- class: 1\n",
      "|   |   |   |   |--- detections >  8.00\n",
      "|   |   |   |   |   |--- detections <= 9.50\n",
      "|   |   |   |   |   |   |--- class: 2\n",
      "|   |   |   |   |   |--- detections >  9.50\n",
      "|   |   |   |   |   |   |--- class: 1\n",
      "|   |   |   |--- age >  34.50\n",
      "|   |   |   |   |--- class: 1\n",
      "|   |   |--- detections >  20.50\n",
      "|   |   |   |--- age <= 36.00\n",
      "|   |   |   |   |--- class: 1\n",
      "|   |   |   |--- age >  36.00\n",
      "|   |   |   |   |--- class: 2\n",
      "|   |--- age >  43.50\n",
      "|   |   |--- detections <= 24.50\n",
      "|   |   |   |--- detections <= 19.50\n",
      "|   |   |   |   |--- detections <= 5.50\n",
      "|   |   |   |   |   |--- class: 2\n",
      "|   |   |   |   |--- detections >  5.50\n",
      "|   |   |   |   |   |--- detections <= 7.50\n",
      "|   |   |   |   |   |   |--- class: 1\n",
      "|   |   |   |   |   |--- detections >  7.50\n",
      "|   |   |   |   |   |   |--- class: 2\n",
      "|   |   |   |--- detections >  19.50\n",
      "|   |   |   |   |--- class: 2\n",
      "|   |   |--- detections >  24.50\n",
      "|   |   |   |--- class: 1\n",
      "\n"
     ]
    }
   ],
   "source": [
    "print(rules)"
   ]
  },
  {
   "cell_type": "code",
   "execution_count": 15,
   "metadata": {},
   "outputs": [
    {
     "data": {
      "text/plain": [
       "<sklearn.tree._tree.Tree at 0x59c5a0c2a0>"
      ]
     },
     "execution_count": 15,
     "metadata": {},
     "output_type": "execute_result"
    }
   ],
   "source": [
    "%matplotlib inline\n",
    "tree_grid.best_estimator_.__getstate__()['tree_']"
   ]
  },
  {
   "cell_type": "code",
   "execution_count": 16,
   "metadata": {
    "scrolled": true
   },
   "outputs": [
    {
     "data": {
      "text/plain": [
       "DecisionTreeClassifier(class_weight=None, criterion='gini', max_depth=6,\n",
       "                       max_features=2, max_leaf_nodes=None,\n",
       "                       min_impurity_decrease=0.0, min_impurity_split=None,\n",
       "                       min_samples_leaf=1, min_samples_split=2,\n",
       "                       min_weight_fraction_leaf=0.0, presort=False,\n",
       "                       random_state=9, splitter='best')"
      ]
     },
     "execution_count": 16,
     "metadata": {},
     "output_type": "execute_result"
    }
   ],
   "source": [
    "tree_grid.best_estimator_"
   ]
  },
  {
   "cell_type": "code",
   "execution_count": 17,
   "metadata": {
    "collapsed": true
   },
   "outputs": [],
   "source": [
    "clf=tree_grid.best_estimator_"
   ]
  },
  {
   "cell_type": "code",
   "execution_count": 18,
   "metadata": {},
   "outputs": [
    {
     "data": {
      "text/plain": [
       "sklearn.tree._tree.Tree"
      ]
     },
     "execution_count": 18,
     "metadata": {},
     "output_type": "execute_result"
    }
   ],
   "source": [
    "type(clf.tree_)"
   ]
  },
  {
   "cell_type": "markdown",
   "metadata": {},
   "source": [
    "As sklearn provided rules extraction does not provide details about end leaves and their contents, I have also collected another code from which we can know what type of samples leaves have and we can then extract rules only for those that have 0 majority class samples. It is given below:"
   ]
  },
  {
   "cell_type": "code",
   "execution_count": 19,
   "metadata": {
    "collapsed": true
   },
   "outputs": [],
   "source": [
    "from sklearn.tree import _tree"
   ]
  },
  {
   "cell_type": "code",
   "execution_count": 24,
   "metadata": {
    "collapsed": true
   },
   "outputs": [],
   "source": [
    "def tree_to_code(tree, feature_names):# found this code online\n",
    "\n",
    "    '''\n",
    "    Outputs a decision tree model as a Python function\n",
    "    \n",
    "    Parameters:\n",
    "    -----------\n",
    "    tree: decision tree model\n",
    "        The decision tree to represent as a function\n",
    "    feature_names: list\n",
    "        The feature names of the dataset used for building the decision tree\n",
    "    '''\n",
    "\n",
    "    tree_ = tree.tree_\n",
    "    feature_name = [\n",
    "        feature_names[i] if i != _tree.TREE_UNDEFINED else \"undefined!\"\n",
    "        for i in tree_.feature\n",
    "    ]\n",
    "    print (\"def tree({}):\".format(\", \".join(feature_names)))\n",
    "\n",
    "    def recurse(node, depth):\n",
    "        indent = \"  \" * depth\n",
    "        if tree_.feature[node] != _tree.TREE_UNDEFINED:\n",
    "            name = feature_name[node]\n",
    "            threshold = tree_.threshold[node]\n",
    "            print( \"{}if {} <= {}:\".format(indent, name, threshold) )\n",
    "            recurse(tree_.children_left[node], depth + 1)\n",
    "            print( \"{}else:  # if {} > {}\".format(indent, name, threshold) )\n",
    "            recurse(tree_.children_right[node], depth + 1)\n",
    "        else:\n",
    "            print(  \"{}return {}\".format(indent, tree_.value[node]))\n",
    "\n",
    "    recurse(0, 1)"
   ]
  },
  {
   "cell_type": "code",
   "execution_count": 23,
   "metadata": {},
   "outputs": [
    {
     "name": "stdout",
     "output_type": "stream",
     "text": [
      "def tree(age, detections, Survival_status):\n",
      "  if detections <= 4.5:\n",
      "    if age <= 69.5:\n",
      "      if age <= 42.5:\n",
      "        if detections <= 0.5:\n",
      "          if age <= 35.5:\n",
      "            if age <= 33.5:\n",
      "              return [[2. 0.]]\n",
      "            else:  # if age > 33.5\n",
      "              return [[0. 1.]]\n",
      "          else:  # if age > 35.5\n",
      "            if age <= 38.5:\n",
      "              return [[5. 0.]]\n",
      "            else:  # if age > 38.5\n",
      "              return [[9. 2.]]\n",
      "        else:  # if detections > 0.5\n",
      "          return [[12.  0.]]\n",
      "      else:  # if age > 42.5\n",
      "        if age <= 43.5:\n",
      "          if detections <= 1.0:\n",
      "            return [[0. 2.]]\n",
      "          else:  # if detections > 1.0\n",
      "            if detections <= 2.5:\n",
      "              return [[2. 1.]]\n",
      "            else:  # if detections > 2.5\n",
      "              return [[1. 0.]]\n",
      "        else:  # if age > 43.5\n",
      "          if detections <= 0.5:\n",
      "            if age <= 50.5:\n",
      "              return [[13.  4.]]\n",
      "            else:  # if age > 50.5\n",
      "              return [[45.  4.]]\n",
      "          else:  # if detections > 0.5\n",
      "            if age <= 61.0:\n",
      "              return [[32.  8.]]\n",
      "            else:  # if age > 61.0\n",
      "              return [[2. 3.]]\n",
      "    else:  # if age > 69.5\n",
      "      if age <= 70.5:\n",
      "        return [[0. 2.]]\n",
      "      else:  # if age > 70.5\n",
      "        if age <= 77.0:\n",
      "          if detections <= 2.5:\n",
      "            if age <= 72.5:\n",
      "              return [[3. 1.]]\n",
      "            else:  # if age > 72.5\n",
      "              return [[3. 0.]]\n",
      "          else:  # if detections > 2.5\n",
      "            if age <= 73.0:\n",
      "              return [[1. 0.]]\n",
      "            else:  # if age > 73.0\n",
      "              return [[0. 1.]]\n",
      "        else:  # if age > 77.0\n",
      "          return [[0. 1.]]\n",
      "  else:  # if detections > 4.5\n",
      "    if age <= 43.5:\n",
      "      if detections <= 20.5:\n",
      "        if age <= 34.5:\n",
      "          if detections <= 8.0:\n",
      "            return [[1. 0.]]\n",
      "          else:  # if detections > 8.0\n",
      "            if detections <= 9.5:\n",
      "              return [[0. 1.]]\n",
      "            else:  # if detections > 9.5\n",
      "              return [[1. 0.]]\n",
      "        else:  # if age > 34.5\n",
      "          return [[7. 0.]]\n",
      "      else:  # if detections > 20.5\n",
      "        if age <= 36.0:\n",
      "          return [[1. 0.]]\n",
      "        else:  # if age > 36.0\n",
      "          return [[0. 2.]]\n",
      "    else:  # if age > 43.5\n",
      "      if detections <= 24.5:\n",
      "        if detections <= 19.5:\n",
      "          if detections <= 5.5:\n",
      "            return [[0. 3.]]\n",
      "          else:  # if detections > 5.5\n",
      "            if detections <= 7.5:\n",
      "              return [[5. 2.]]\n",
      "            else:  # if detections > 7.5\n",
      "              return [[ 9. 15.]]\n",
      "        else:  # if detections > 19.5\n",
      "          return [[0. 4.]]\n",
      "      else:  # if detections > 24.5\n",
      "        return [[3. 0.]]\n"
     ]
    }
   ],
   "source": [
    "tree_to_code(clf,df.columns)"
   ]
  },
  {
   "cell_type": "code",
   "execution_count": null,
   "metadata": {
    "collapsed": true
   },
   "outputs": [],
   "source": []
  }
 ],
 "metadata": {
  "kernelspec": {
   "display_name": "Python 3",
   "language": "python",
   "name": "python3"
  },
  "language_info": {
   "codemirror_mode": {
    "name": "ipython",
    "version": 3
   },
   "file_extension": ".py",
   "mimetype": "text/x-python",
   "name": "python",
   "nbconvert_exporter": "python",
   "pygments_lexer": "ipython3",
   "version": "3.6.6"
  }
 },
 "nbformat": 4,
 "nbformat_minor": 2
}
