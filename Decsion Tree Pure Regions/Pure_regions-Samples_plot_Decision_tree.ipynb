{
 "cells": [
  {
   "cell_type": "code",
   "execution_count": 1,
   "metadata": {
    "collapsed": true
   },
   "outputs": [],
   "source": [
    "import numpy as np\n",
    "import pandas as pd\n",
    "\n",
    "from sklearn.tree import DecisionTreeClassifier\n",
    "from sklearn.model_selection import train_test_split,GridSearchCV\n",
    "from sklearn.metrics import roc_curve,auc\n",
    "\n",
    "import matplotlib.pyplot as plt\n",
    "\n",
    "import seaborn as sns\n",
    "sns.set()\n",
    "\n",
    "%matplotlib inline\n",
    "import warnings\n",
    "warnings.filterwarnings('ignore')"
   ]
  },
  {
   "cell_type": "code",
   "execution_count": 2,
   "metadata": {
    "collapsed": true
   },
   "outputs": [],
   "source": [
    "df=pd.read_csv('../data/haberman_csv.csv')"
   ]
  },
  {
   "cell_type": "code",
   "execution_count": 3,
   "metadata": {},
   "outputs": [
    {
     "data": {
      "text/plain": [
       "Index(['Age_of_patient_at_time_of_operation', 'Patients_year_of_operation',\n",
       "       'Number_of_positive_axillary_nodes_detected', 'Survival_status'],\n",
       "      dtype='object')"
      ]
     },
     "execution_count": 3,
     "metadata": {},
     "output_type": "execute_result"
    }
   ],
   "source": [
    "df.columns"
   ]
  },
  {
   "cell_type": "code",
   "execution_count": 4,
   "metadata": {
    "collapsed": true
   },
   "outputs": [],
   "source": [
    "df=df.drop(columns=['Patients_year_of_operation'])"
   ]
  },
  {
   "cell_type": "code",
   "execution_count": 5,
   "metadata": {},
   "outputs": [
    {
     "data": {
      "text/plain": [
       "(306, 3)"
      ]
     },
     "execution_count": 5,
     "metadata": {},
     "output_type": "execute_result"
    }
   ],
   "source": [
    "df.shape"
   ]
  },
  {
   "cell_type": "code",
   "execution_count": 6,
   "metadata": {
    "collapsed": true
   },
   "outputs": [],
   "source": [
    "df=df.rename(columns={'Age_of_patient_at_time_of_operation':'age', 'Number_of_positive_axillary_nodes_detected':'detections'})"
   ]
  },
  {
   "cell_type": "code",
   "execution_count": 7,
   "metadata": {
    "collapsed": true
   },
   "outputs": [],
   "source": [
    "data=df.values\n",
    "X=data[:,:2]\n",
    "Y=data[:,2]"
   ]
  },
  {
   "cell_type": "code",
   "execution_count": 8,
   "metadata": {
    "collapsed": true
   },
   "outputs": [],
   "source": [
    "X_train,x_test,Y_train,y_test=train_test_split(X,Y,test_size=0.3,random_state=9)"
   ]
  },
  {
   "cell_type": "code",
   "execution_count": 9,
   "metadata": {},
   "outputs": [
    {
     "name": "stdout",
     "output_type": "stream",
     "text": [
      "Fitting 10 folds for each of 8 candidates, totalling 80 fits\n"
     ]
    },
    {
     "name": "stderr",
     "output_type": "stream",
     "text": [
      "[Parallel(n_jobs=-1)]: Using backend LokyBackend with 4 concurrent workers.\n",
      "[Parallel(n_jobs=-1)]: Done  80 out of  80 | elapsed:    2.3s finished\n"
     ]
    },
    {
     "data": {
      "text/plain": [
       "GridSearchCV(cv=10, error_score='raise-deprecating',\n",
       "             estimator=DecisionTreeClassifier(class_weight=None,\n",
       "                                              criterion='gini', max_depth=None,\n",
       "                                              max_features=None,\n",
       "                                              max_leaf_nodes=None,\n",
       "                                              min_impurity_decrease=0.0,\n",
       "                                              min_impurity_split=None,\n",
       "                                              min_samples_leaf=1,\n",
       "                                              min_samples_split=2,\n",
       "                                              min_weight_fraction_leaf=0.0,\n",
       "                                              presort=False, random_state=9,\n",
       "                                              splitter='best'),\n",
       "             iid='warn', n_jobs=-1,\n",
       "             param_grid={'max_depth': [3, 4, 5, 6], 'max_features': [1, 2]},\n",
       "             pre_dispatch='2*n_jobs', refit=True, return_train_score=False,\n",
       "             scoring='accuracy', verbose=2)"
      ]
     },
     "execution_count": 9,
     "metadata": {},
     "output_type": "execute_result"
    }
   ],
   "source": [
    "tree=DecisionTreeClassifier(random_state=9)\n",
    "\n",
    "tree_params={'max_depth':[3,4,5,6],'max_features':[1,2]}\n",
    "\n",
    "tree_grid=GridSearchCV(tree,tree_params,scoring='accuracy',n_jobs=-1,cv=10,verbose=2)\n",
    "\n",
    "tree_grid.fit(X_train,Y_train)"
   ]
  },
  {
   "cell_type": "code",
   "execution_count": 10,
   "metadata": {
    "collapsed": true
   },
   "outputs": [],
   "source": [
    "import pydotplus\n",
    "from sklearn.tree import export_graphviz\n",
    "\n",
    "def draw_tree(tree,features,location):\n",
    "    tree_string=export_graphviz(tree,feature_names=features,filled=True,out_file=None)\n",
    "    graph=pydotplus.graph_from_dot_data(tree_string)\n",
    "    graph.write_png(location)"
   ]
  },
  {
   "cell_type": "code",
   "execution_count": 11,
   "metadata": {
    "collapsed": true
   },
   "outputs": [],
   "source": [
    "draw_tree(tree_grid.best_estimator_,['age', 'detections'],\\\n",
    "          location='../imgs/tree_grid1.png')"
   ]
  },
  {
   "cell_type": "markdown",
   "metadata": {
    "collapsed": true
   },
   "source": [
    "<img src='../imgs/tree_grid1.png'>"
   ]
  },
  {
   "cell_type": "markdown",
   "metadata": {},
   "source": [
    "In the above Decision Tree representation that is generated, blue colored leaves are for minority class(it could change on other representations).\n",
    "\n",
    "values parameter represents number of samples of both classes.\n",
    "Value=[0,4] meaning 0 sample from 1st class and 4 samples from 2nd class.\n",
    "\n",
    "Blue colored leaves only contains samples from minority class. So, if we can extract rules that made these pure minority class regions in decision tree which i beleieve represents decsion bounderies in N-dimensional space also, then we have samples that are relatively represent pure regions as there are no samples from other class\n",
    "\n",
    "Accuracy of DecisionTreeClassifier should not be an issue, because we are not taking all rules gererate in the tree, we are only taking leaves that is purely one class and does not have any ambiguities with other class samples.\n"
   ]
  },
  {
   "cell_type": "markdown",
   "metadata": {},
   "source": [
    "<img src='../imgs/tree_grid1 - paths.png'>"
   ]
  },
  {
   "cell_type": "markdown",
   "metadata": {},
   "source": [
    "In the above pictures red circled leaves contains samples from minority class only. So, if we extract rules following the green line and replicate samples within those rules I believe it will fall in the same pure regions."
   ]
  },
  {
   "cell_type": "code",
   "execution_count": 12,
   "metadata": {
    "collapsed": true
   },
   "outputs": [],
   "source": [
    "from sklearn import tree"
   ]
  },
  {
   "cell_type": "code",
   "execution_count": 13,
   "metadata": {
    "collapsed": true
   },
   "outputs": [],
   "source": [
    "best_tree=tree_grid.best_estimator_\n",
    "\n",
    "rule_strings=tree.export_graphviz(best_tree,out_file=None)"
   ]
  },
  {
   "cell_type": "markdown",
   "metadata": {},
   "source": [
    "Extracting rules from the tree"
   ]
  },
  {
   "cell_type": "code",
   "execution_count": 14,
   "metadata": {},
   "outputs": [
    {
     "name": "stdout",
     "output_type": "stream",
     "text": [
      "digraph Tree {\n",
      "node [shape=box] ;\n",
      "0 [label=\"X[1] <= 4.5\\ngini = 0.391\\nsamples = 214\\nvalue = [157, 57]\"] ;\n",
      "1 [label=\"X[0] <= 69.5\\ngini = 0.305\\nsamples = 160\\nvalue = [130, 30]\"] ;\n",
      "0 -> 1 [labeldistance=2.5, labelangle=45, headlabel=\"True\"] ;\n",
      "2 [label=\"X[0] <= 42.5\\ngini = 0.281\\nsamples = 148\\nvalue = [123, 25]\"] ;\n",
      "1 -> 2 ;\n",
      "3 [label=\"X[1] <= 0.5\\ngini = 0.175\\nsamples = 31\\nvalue = [28, 3]\"] ;\n",
      "2 -> 3 ;\n",
      "4 [label=\"X[0] <= 35.5\\ngini = 0.266\\nsamples = 19\\nvalue = [16, 3]\"] ;\n",
      "3 -> 4 ;\n",
      "5 [label=\"X[0] <= 33.5\\ngini = 0.444\\nsamples = 3\\nvalue = [2, 1]\"] ;\n",
      "4 -> 5 ;\n",
      "6 [label=\"gini = 0.0\\nsamples = 2\\nvalue = [2, 0]\"] ;\n",
      "5 -> 6 ;\n",
      "7 [label=\"gini = 0.0\\nsamples = 1\\nvalue = [0, 1]\"] ;\n",
      "5 -> 7 ;\n",
      "8 [label=\"X[0] <= 38.5\\ngini = 0.219\\nsamples = 16\\nvalue = [14, 2]\"] ;\n",
      "4 -> 8 ;\n",
      "9 [label=\"gini = 0.0\\nsamples = 5\\nvalue = [5, 0]\"] ;\n",
      "8 -> 9 ;\n",
      "10 [label=\"gini = 0.298\\nsamples = 11\\nvalue = [9, 2]\"] ;\n",
      "8 -> 10 ;\n",
      "11 [label=\"gini = 0.0\\nsamples = 12\\nvalue = [12, 0]\"] ;\n",
      "3 -> 11 ;\n",
      "12 [label=\"X[0] <= 43.5\\ngini = 0.305\\nsamples = 117\\nvalue = [95, 22]\"] ;\n",
      "2 -> 12 ;\n",
      "13 [label=\"X[1] <= 1.0\\ngini = 0.5\\nsamples = 6\\nvalue = [3, 3]\"] ;\n",
      "12 -> 13 ;\n",
      "14 [label=\"gini = 0.0\\nsamples = 2\\nvalue = [0, 2]\"] ;\n",
      "13 -> 14 ;\n",
      "15 [label=\"X[1] <= 2.5\\ngini = 0.375\\nsamples = 4\\nvalue = [3, 1]\"] ;\n",
      "13 -> 15 ;\n",
      "16 [label=\"gini = 0.444\\nsamples = 3\\nvalue = [2, 1]\"] ;\n",
      "15 -> 16 ;\n",
      "17 [label=\"gini = 0.0\\nsamples = 1\\nvalue = [1, 0]\"] ;\n",
      "15 -> 17 ;\n",
      "18 [label=\"X[1] <= 0.5\\ngini = 0.284\\nsamples = 111\\nvalue = [92, 19]\"] ;\n",
      "12 -> 18 ;\n",
      "19 [label=\"X[0] <= 50.5\\ngini = 0.213\\nsamples = 66\\nvalue = [58, 8]\"] ;\n",
      "18 -> 19 ;\n",
      "20 [label=\"gini = 0.36\\nsamples = 17\\nvalue = [13, 4]\"] ;\n",
      "19 -> 20 ;\n",
      "21 [label=\"gini = 0.15\\nsamples = 49\\nvalue = [45, 4]\"] ;\n",
      "19 -> 21 ;\n",
      "22 [label=\"X[0] <= 61.0\\ngini = 0.369\\nsamples = 45\\nvalue = [34, 11]\"] ;\n",
      "18 -> 22 ;\n",
      "23 [label=\"gini = 0.32\\nsamples = 40\\nvalue = [32, 8]\"] ;\n",
      "22 -> 23 ;\n",
      "24 [label=\"gini = 0.48\\nsamples = 5\\nvalue = [2, 3]\"] ;\n",
      "22 -> 24 ;\n",
      "25 [label=\"X[0] <= 70.5\\ngini = 0.486\\nsamples = 12\\nvalue = [7, 5]\"] ;\n",
      "1 -> 25 ;\n",
      "26 [label=\"gini = 0.0\\nsamples = 2\\nvalue = [0, 2]\"] ;\n",
      "25 -> 26 ;\n",
      "27 [label=\"X[0] <= 77.0\\ngini = 0.42\\nsamples = 10\\nvalue = [7, 3]\"] ;\n",
      "25 -> 27 ;\n",
      "28 [label=\"X[1] <= 2.5\\ngini = 0.346\\nsamples = 9\\nvalue = [7, 2]\"] ;\n",
      "27 -> 28 ;\n",
      "29 [label=\"X[0] <= 72.5\\ngini = 0.245\\nsamples = 7\\nvalue = [6, 1]\"] ;\n",
      "28 -> 29 ;\n",
      "30 [label=\"gini = 0.375\\nsamples = 4\\nvalue = [3, 1]\"] ;\n",
      "29 -> 30 ;\n",
      "31 [label=\"gini = 0.0\\nsamples = 3\\nvalue = [3, 0]\"] ;\n",
      "29 -> 31 ;\n",
      "32 [label=\"X[0] <= 73.0\\ngini = 0.5\\nsamples = 2\\nvalue = [1, 1]\"] ;\n",
      "28 -> 32 ;\n",
      "33 [label=\"gini = 0.0\\nsamples = 1\\nvalue = [1, 0]\"] ;\n",
      "32 -> 33 ;\n",
      "34 [label=\"gini = 0.0\\nsamples = 1\\nvalue = [0, 1]\"] ;\n",
      "32 -> 34 ;\n",
      "35 [label=\"gini = 0.0\\nsamples = 1\\nvalue = [0, 1]\"] ;\n",
      "27 -> 35 ;\n",
      "36 [label=\"X[0] <= 43.5\\ngini = 0.5\\nsamples = 54\\nvalue = [27, 27]\"] ;\n",
      "0 -> 36 [labeldistance=2.5, labelangle=-45, headlabel=\"False\"] ;\n",
      "37 [label=\"X[1] <= 20.5\\ngini = 0.355\\nsamples = 13\\nvalue = [10, 3]\"] ;\n",
      "36 -> 37 ;\n",
      "38 [label=\"X[0] <= 34.5\\ngini = 0.18\\nsamples = 10\\nvalue = [9, 1]\"] ;\n",
      "37 -> 38 ;\n",
      "39 [label=\"X[1] <= 8.0\\ngini = 0.444\\nsamples = 3\\nvalue = [2, 1]\"] ;\n",
      "38 -> 39 ;\n",
      "40 [label=\"gini = 0.0\\nsamples = 1\\nvalue = [1, 0]\"] ;\n",
      "39 -> 40 ;\n",
      "41 [label=\"X[1] <= 9.5\\ngini = 0.5\\nsamples = 2\\nvalue = [1, 1]\"] ;\n",
      "39 -> 41 ;\n",
      "42 [label=\"gini = 0.0\\nsamples = 1\\nvalue = [0, 1]\"] ;\n",
      "41 -> 42 ;\n",
      "43 [label=\"gini = 0.0\\nsamples = 1\\nvalue = [1, 0]\"] ;\n",
      "41 -> 43 ;\n",
      "44 [label=\"gini = 0.0\\nsamples = 7\\nvalue = [7, 0]\"] ;\n",
      "38 -> 44 ;\n",
      "45 [label=\"X[0] <= 36.0\\ngini = 0.444\\nsamples = 3\\nvalue = [1, 2]\"] ;\n",
      "37 -> 45 ;\n",
      "46 [label=\"gini = 0.0\\nsamples = 1\\nvalue = [1, 0]\"] ;\n",
      "45 -> 46 ;\n",
      "47 [label=\"gini = 0.0\\nsamples = 2\\nvalue = [0, 2]\"] ;\n",
      "45 -> 47 ;\n",
      "48 [label=\"X[1] <= 24.5\\ngini = 0.485\\nsamples = 41\\nvalue = [17, 24]\"] ;\n",
      "36 -> 48 ;\n",
      "49 [label=\"X[1] <= 19.5\\ngini = 0.465\\nsamples = 38\\nvalue = [14, 24]\"] ;\n",
      "48 -> 49 ;\n",
      "50 [label=\"X[1] <= 5.5\\ngini = 0.484\\nsamples = 34\\nvalue = [14, 20]\"] ;\n",
      "49 -> 50 ;\n",
      "51 [label=\"gini = 0.0\\nsamples = 3\\nvalue = [0, 3]\"] ;\n",
      "50 -> 51 ;\n",
      "52 [label=\"X[1] <= 7.5\\ngini = 0.495\\nsamples = 31\\nvalue = [14, 17]\"] ;\n",
      "50 -> 52 ;\n",
      "53 [label=\"gini = 0.408\\nsamples = 7\\nvalue = [5, 2]\"] ;\n",
      "52 -> 53 ;\n",
      "54 [label=\"gini = 0.469\\nsamples = 24\\nvalue = [9, 15]\"] ;\n",
      "52 -> 54 ;\n",
      "55 [label=\"gini = 0.0\\nsamples = 4\\nvalue = [0, 4]\"] ;\n",
      "49 -> 55 ;\n",
      "56 [label=\"gini = 0.0\\nsamples = 3\\nvalue = [3, 0]\"] ;\n",
      "48 -> 56 ;\n",
      "}\n"
     ]
    }
   ],
   "source": [
    "print(rule_strings)"
   ]
  },
  {
   "cell_type": "code",
   "execution_count": 15,
   "metadata": {
    "collapsed": true
   },
   "outputs": [],
   "source": [
    "import SampleExtraction # code in SampleExtraction.py in same folder"
   ]
  },
  {
   "cell_type": "markdown",
   "metadata": {},
   "source": [
    "Finding samples that fall within rules that leads to samples of only minority class (pure regions)"
   ]
  },
  {
   "cell_type": "code",
   "execution_count": 16,
   "metadata": {
    "collapsed": true
   },
   "outputs": [],
   "source": [
    "pure_samples_X_train,pure_samples_with_class,rules_with_pure_class=SampleExtraction.pure_sample_extraction(best_tree,X_train,Y_train,2)"
   ]
  },
  {
   "cell_type": "code",
   "execution_count": 17,
   "metadata": {},
   "outputs": [
    {
     "data": {
      "text/plain": [
       "[array([42,  2], dtype=int64),\n",
       " array([34,  2], dtype=int64),\n",
       " array([55,  2], dtype=int64),\n",
       " array([51,  2], dtype=int64),\n",
       " array([7, 2], dtype=int64),\n",
       " array([26,  2], dtype=int64),\n",
       " array([47,  2], dtype=int64),\n",
       " array([55,  2], dtype=int64),\n",
       " array([26,  2], dtype=int64),\n",
       " array([14,  2], dtype=int64),\n",
       " array([55,  2], dtype=int64),\n",
       " array([51,  2], dtype=int64),\n",
       " array([35,  2], dtype=int64),\n",
       " array([51,  2], dtype=int64),\n",
       " array([47,  2], dtype=int64),\n",
       " array([55,  2], dtype=int64),\n",
       " array([14,  2], dtype=int64)]"
      ]
     },
     "execution_count": 17,
     "metadata": {},
     "output_type": "execute_result"
    }
   ],
   "source": [
    "rules_with_pure_class# returns leaves no of pure class clusters and class(2)"
   ]
  },
  {
   "cell_type": "code",
   "execution_count": 18,
   "metadata": {},
   "outputs": [
    {
     "data": {
      "text/plain": [
       "[array([34,  9], dtype=int64),\n",
       " array([74,  3], dtype=int64),\n",
       " array([46, 20], dtype=int64),\n",
       " array([57,  5], dtype=int64),\n",
       " array([34,  0], dtype=int64),\n",
       " array([70,  0], dtype=int64),\n",
       " array([41, 23], dtype=int64),\n",
       " array([47, 23], dtype=int64),\n",
       " array([70,  4], dtype=int64),\n",
       " array([43,  0], dtype=int64),\n",
       " array([53, 24], dtype=int64),\n",
       " array([46,  5], dtype=int64),\n",
       " array([78,  1], dtype=int64),\n",
       " array([54,  5], dtype=int64),\n",
       " array([38, 21], dtype=int64),\n",
       " array([65, 22], dtype=int64),\n",
       " array([43,  0], dtype=int64)]"
      ]
     },
     "execution_count": 18,
     "metadata": {},
     "output_type": "execute_result"
    }
   ],
   "source": [
    "#prints minority samples of pure rules\n",
    "pure_samples_X_train"
   ]
  },
  {
   "cell_type": "code",
   "execution_count": 19,
   "metadata": {},
   "outputs": [
    {
     "data": {
      "text/plain": [
       "[array([[34,  9,  2]], dtype=int64),\n",
       " array([[74,  3,  2]], dtype=int64),\n",
       " array([[46, 20,  2]], dtype=int64),\n",
       " array([[57,  5,  2]], dtype=int64),\n",
       " array([[34,  0,  2]], dtype=int64),\n",
       " array([[70,  0,  2]], dtype=int64),\n",
       " array([[41, 23,  2]], dtype=int64),\n",
       " array([[47, 23,  2]], dtype=int64),\n",
       " array([[70,  4,  2]], dtype=int64),\n",
       " array([[43,  0,  2]], dtype=int64),\n",
       " array([[53, 24,  2]], dtype=int64),\n",
       " array([[46,  5,  2]], dtype=int64),\n",
       " array([[78,  1,  2]], dtype=int64),\n",
       " array([[54,  5,  2]], dtype=int64),\n",
       " array([[38, 21,  2]], dtype=int64),\n",
       " array([[65, 22,  2]], dtype=int64),\n",
       " array([[43,  0,  2]], dtype=int64)]"
      ]
     },
     "execution_count": 19,
     "metadata": {},
     "output_type": "execute_result"
    }
   ],
   "source": [
    "pure_samples_with_class"
   ]
  },
  {
   "cell_type": "code",
   "execution_count": 20,
   "metadata": {
    "collapsed": true
   },
   "outputs": [],
   "source": [
    "def get_grid(data):\n",
    "    x_min, x_max = data[:, 0].min() - 1, data[:, 0].max() + 1\n",
    "    y_min, y_max = data[:, 1].min() - 1, data[:, 1].max() + 1\n",
    "    return np.meshgrid(np.arange(x_min, x_max, 0.01), np.arange(y_min, y_max, 0.01))"
   ]
  },
  {
   "cell_type": "code",
   "execution_count": 21,
   "metadata": {
    "collapsed": true
   },
   "outputs": [],
   "source": [
    "pure_X_train=np.array(pure_samples_X_train)"
   ]
  },
  {
   "cell_type": "code",
   "execution_count": 24,
   "metadata": {},
   "outputs": [
    {
     "data": {
      "image/png": "[encoded data removed]",
      "text/plain": [
       "<matplotlib.figure.Figure at 0xfee1d5d048>"
      ]
     },
     "metadata": {},
     "output_type": "display_data"
    }
   ],
   "source": [
    "xx,yy=get_grid(X_train)\n",
    "\n",
    "predicted1=best_tree.predict(np.c_[xx.ravel(),yy.ravel()]).reshape(xx.shape)\n",
    "\n",
    "plt.pcolormesh(xx,yy,predicted1,cmap='autumn')\n",
    "plt.scatter(X_train[:,0],X_train[:,1],c=Y_train,s=11,cmap='autumn',edgecolors='black')\n",
    "plt.scatter(pure_X_train[:,0],pure_X_train[:,1],s=20,cmap='spring',edgecolors='blue')\n",
    "plt.legend()"
   ]
  },
  {
   "cell_type": "markdown",
   "metadata": {},
   "source": [
    "Yellow are represents decision regions for minority class, red area represents regions of majority class.\n",
    "In the above picture, blue dots represents samples of pure minority class that followed the rules colored green in the Decision Tree.\n",
    "\n",
    "Yellow dots also represents minority class and Red dots represents majority class.\n",
    "It is clear from the picture that rules in decision tree that generates leaves containing pure minority samples also make regions that are pure and contains no majority samples thus providing pure regions of minority class(representing rules that leads to leaves containing only minority class samples)."
   ]
  },
  {
   "cell_type": "markdown",
   "metadata": {},
   "source": [
    "It roughly provides samples of minority class where oversampling will be safe. Decision rules that provide these pure regions can be used for oversampling."
   ]
  },
  {
   "cell_type": "code",
   "execution_count": null,
   "metadata": {
    "collapsed": true
   },
   "outputs": [],
   "source": []
  }
 ],
 "metadata": {
  "kernelspec": {
   "display_name": "Python 3",
   "language": "python",
   "name": "python3"
  },
  "language_info": {
   "codemirror_mode": {
    "name": "ipython",
    "version": 3
   },
   "file_extension": ".py",
   "mimetype": "text/x-python",
   "name": "python",
   "nbconvert_exporter": "python",
   "pygments_lexer": "ipython3",
   "version": "3.6.6"
  }
 },
 "nbformat": 4,
 "nbformat_minor": 2
}
