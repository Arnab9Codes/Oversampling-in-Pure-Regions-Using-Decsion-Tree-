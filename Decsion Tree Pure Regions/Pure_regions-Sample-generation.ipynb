{
 "cells": [
  {
   "cell_type": "code",
   "execution_count": 1,
   "metadata": {
    "collapsed": true
   },
   "outputs": [],
   "source": [
    "import numpy as np\n",
    "import pandas as pd\n",
    "\n",
    "from sklearn.tree import DecisionTreeClassifier\n",
    "from sklearn.model_selection import train_test_split,GridSearchCV\n",
    "from sklearn.metrics import roc_curve,auc\n",
    "\n",
    "import matplotlib.pyplot as plt\n",
    "\n",
    "import seaborn as sns\n",
    "sns.set()\n",
    "\n",
    "%matplotlib inline\n",
    "import warnings\n",
    "warnings.filterwarnings('ignore')"
   ]
  },
  {
   "cell_type": "code",
   "execution_count": 2,
   "metadata": {},
   "outputs": [],
   "source": [
    "df=pd.read_csv('../data/haberman_csv.csv')"
   ]
  },
  {
   "cell_type": "code",
   "execution_count": 3,
   "metadata": {},
   "outputs": [
    {
     "data": {
      "text/plain": [
       "Index(['Age_of_patient_at_time_of_operation', 'Patients_year_of_operation',\n",
       "       'Number_of_positive_axillary_nodes_detected', 'Survival_status'],\n",
       "      dtype='object')"
      ]
     },
     "execution_count": 3,
     "metadata": {},
     "output_type": "execute_result"
    }
   ],
   "source": [
    "df.columns"
   ]
  },
  {
   "cell_type": "code",
   "execution_count": 4,
   "metadata": {
    "collapsed": true
   },
   "outputs": [],
   "source": [
    "df=df.drop(columns=['Patients_year_of_operation'])"
   ]
  },
  {
   "cell_type": "code",
   "execution_count": 5,
   "metadata": {},
   "outputs": [
    {
     "data": {
      "text/plain": [
       "(306, 3)"
      ]
     },
     "execution_count": 5,
     "metadata": {},
     "output_type": "execute_result"
    }
   ],
   "source": [
    "df.shape"
   ]
  },
  {
   "cell_type": "code",
   "execution_count": 6,
   "metadata": {
    "collapsed": true
   },
   "outputs": [],
   "source": [
    "df=df.rename(columns={'Age_of_patient_at_time_of_operation':'age', 'Number_of_positive_axillary_nodes_detected':'detections'})"
   ]
  },
  {
   "cell_type": "code",
   "execution_count": 7,
   "metadata": {
    "collapsed": true
   },
   "outputs": [],
   "source": [
    "data=df.values\n",
    "X=data[:,:2]\n",
    "Y=data[:,2]"
   ]
  },
  {
   "cell_type": "code",
   "execution_count": 8,
   "metadata": {
    "collapsed": true
   },
   "outputs": [],
   "source": [
    "X_train,x_test,Y_train,y_test=train_test_split(X,Y,test_size=0.3,random_state=9)"
   ]
  },
  {
   "cell_type": "code",
   "execution_count": 9,
   "metadata": {},
   "outputs": [
    {
     "name": "stdout",
     "output_type": "stream",
     "text": [
      "Fitting 10 folds for each of 8 candidates, totalling 80 fits\n"
     ]
    },
    {
     "name": "stderr",
     "output_type": "stream",
     "text": [
      "[Parallel(n_jobs=-1)]: Using backend LokyBackend with 4 concurrent workers.\n",
      "[Parallel(n_jobs=-1)]: Done  38 tasks      | elapsed:    2.0s\n",
      "[Parallel(n_jobs=-1)]: Done  80 out of  80 | elapsed:    2.2s finished\n"
     ]
    },
    {
     "data": {
      "text/plain": [
       "GridSearchCV(cv=10, error_score='raise-deprecating',\n",
       "             estimator=DecisionTreeClassifier(class_weight=None,\n",
       "                                              criterion='gini', max_depth=None,\n",
       "                                              max_features=None,\n",
       "                                              max_leaf_nodes=None,\n",
       "                                              min_impurity_decrease=0.0,\n",
       "                                              min_impurity_split=None,\n",
       "                                              min_samples_leaf=1,\n",
       "                                              min_samples_split=2,\n",
       "                                              min_weight_fraction_leaf=0.0,\n",
       "                                              presort=False, random_state=9,\n",
       "                                              splitter='best'),\n",
       "             iid='warn', n_jobs=-1,\n",
       "             param_grid={'max_depth': [3, 4, 5, 6], 'max_features': [1, 2]},\n",
       "             pre_dispatch='2*n_jobs', refit=True, return_train_score=False,\n",
       "             scoring='accuracy', verbose=2)"
      ]
     },
     "execution_count": 9,
     "metadata": {},
     "output_type": "execute_result"
    }
   ],
   "source": [
    "tree=DecisionTreeClassifier(random_state=9)\n",
    "\n",
    "tree_params={'max_depth':[3,4,5,6],'max_features':[1,2]}\n",
    "\n",
    "tree_grid=GridSearchCV(tree,tree_params,scoring='accuracy',n_jobs=-1,cv=10,verbose=2)\n",
    "\n",
    "tree_grid.fit(X_train,Y_train)"
   ]
  },
  {
   "cell_type": "code",
   "execution_count": 10,
   "metadata": {
    "collapsed": true
   },
   "outputs": [],
   "source": [
    "import pydotplus\n",
    "from sklearn.tree import export_graphviz\n",
    "\n",
    "def draw_tree(tree,features,location):\n",
    "    tree_string=export_graphviz(tree,feature_names=features,filled=True,out_file=None)\n",
    "    graph=pydotplus.graph_from_dot_data(tree_string)\n",
    "    graph.write_png(location)"
   ]
  },
  {
   "cell_type": "code",
   "execution_count": 11,
   "metadata": {
    "collapsed": true
   },
   "outputs": [],
   "source": [
    "draw_tree(tree_grid.best_estimator_,['age', 'detections'],\\\n",
    "          location='../imgs/tree_grid1.png')"
   ]
  },
  {
   "cell_type": "markdown",
   "metadata": {
    "collapsed": true
   },
   "source": [
    "<img src='../imgs/tree_grid1.png'>"
   ]
  },
  {
   "cell_type": "markdown",
   "metadata": {},
   "source": [
    "In the above Decision Tree representation that is generated, blue colored leaves are for minority class(it could change on other representations).\n",
    "\n",
    "values parameter represents number of samples of both classes.\n",
    "Value=[0,4] meaning 0 sample from 1st class and 4 samples from 2nd class.\n",
    "\n",
    "Blue colored leaves only contains samples from minority class. So, if we can extract rules that made these pure minority class regions in decision tree which i beleieve represents decsion bounderies in N-dimensional space also, then we have samples that are relatively represent pure regions as there are no samples from other class\n",
    "\n",
    "Accuracy of DecisionTreeClassifier should not be an issue, because we are not taking all rules gererate in the tree, we are only taking leaves that is purely one class and does not have any ambiguities with other class samples.\n"
   ]
  },
  {
   "cell_type": "markdown",
   "metadata": {},
   "source": [
    "<img src='../imgs/tree_grid1 - paths.png'>"
   ]
  },
  {
   "cell_type": "markdown",
   "metadata": {},
   "source": [
    "In the above pictures red circled leaves contains samples from minority class only. So, if we extract rules following the green line and replicate samples within those rules, I believe it will fall in the same pure regions."
   ]
  },
  {
   "cell_type": "code",
   "execution_count": 12,
   "metadata": {
    "collapsed": true
   },
   "outputs": [],
   "source": [
    "from sklearn import tree"
   ]
  },
  {
   "cell_type": "code",
   "execution_count": 13,
   "metadata": {
    "collapsed": true
   },
   "outputs": [],
   "source": [
    "best_tree=tree_grid.best_estimator_\n",
    "\n",
    "rule_strings=tree.export_graphviz(best_tree,out_file=None)"
   ]
  },
  {
   "cell_type": "markdown",
   "metadata": {},
   "source": [
    "Extracting rules from the tree"
   ]
  },
  {
   "cell_type": "code",
   "execution_count": 14,
   "metadata": {
    "collapsed": true
   },
   "outputs": [],
   "source": [
    "import SampleExtraction # code in SampleExtraction.py in same folder"
   ]
  },
  {
   "cell_type": "markdown",
   "metadata": {},
   "source": [
    "Finding samples that fall within rules that leads to samples of only minority class (pure regions)"
   ]
  },
  {
   "cell_type": "code",
   "execution_count": 15,
   "metadata": {
    "collapsed": true
   },
   "outputs": [],
   "source": [
    "pure_samples_X_train,pure_samples_with_class,rules_with_pure_class=SampleExtraction.pure_sample_extraction(best_tree,X_train,Y_train,2)"
   ]
  },
  {
   "cell_type": "code",
   "execution_count": 16,
   "metadata": {
    "collapsed": true
   },
   "outputs": [],
   "source": [
    "def get_grid(data):\n",
    "    x_min, x_max = data[:, 0].min() - 1, data[:, 0].max() + 1\n",
    "    y_min, y_max = data[:, 1].min() - 1, data[:, 1].max() + 1\n",
    "    return np.meshgrid(np.arange(x_min, x_max, 0.01), np.arange(y_min, y_max, 0.01))"
   ]
  },
  {
   "cell_type": "code",
   "execution_count": 17,
   "metadata": {
    "collapsed": true
   },
   "outputs": [],
   "source": [
    "pure_X_train=np.array(pure_samples_X_train)"
   ]
  },
  {
   "cell_type": "code",
   "execution_count": 18,
   "metadata": {},
   "outputs": [
    {
     "data": {
      "image/png": "[encoded data removed]",
      "text/plain": [
       "<matplotlib.figure.Figure at 0xb1ef378208>"
      ]
     },
     "metadata": {},
     "output_type": "display_data"
    }
   ],
   "source": [
    "xx,yy=get_grid(X_train)\n",
    "\n",
    "predicted1=best_tree.predict(np.c_[xx.ravel(),yy.ravel()]).reshape(xx.shape)\n",
    "\n",
    "plt.pcolormesh(xx,yy,predicted1,cmap='autumn')\n",
    "plt.scatter(X_train[:,0],X_train[:,1],c=Y_train,s=11,cmap='autumn',edgecolors='black')\n",
    "plt.scatter(pure_X_train[:,0],pure_X_train[:,1],s=20,cmap='spring',edgecolors='blue')\n",
    "plt.legend()"
   ]
  },
  {
   "cell_type": "markdown",
   "metadata": {},
   "source": [
    "In the above picture, blue dots represents samples of pure minority class that followed the rules colored green in the Decision Tree.\n",
    "\n",
    "Yellow dots also represents minority class and Red dots represents majority class.\n",
    "It is clear from the picture that rules in decision tree that generates leaves containing pure minority samples also make regions that are pure and contains no majority samples thus providing pure regions of minority class(representing rules that leads to leaves containing only minority class samples)."
   ]
  },
  {
   "cell_type": "markdown",
   "metadata": {},
   "source": [
    "It roughly provides samples of minority class where oversampling will be safe. Decision rules that provide these pure regions can be used for oversampling."
   ]
  },
  {
   "cell_type": "code",
   "execution_count": 19,
   "metadata": {
    "collapsed": true
   },
   "outputs": [],
   "source": [
    "#custom functions\n",
    "\n",
    "import DecisionRules\n",
    "import TreePathDictionary\n",
    "import SampleGeneration"
   ]
  },
  {
   "cell_type": "code",
   "execution_count": 20,
   "metadata": {
    "collapsed": true
   },
   "outputs": [],
   "source": [
    "dic=DecisionRules.Tree_path(best_tree,pure_X_train)#passing best tree estimate and pure samples\n",
    "#to see dicionary printed ,uncomment print code in DecisionRules.py file"
   ]
  },
  {
   "cell_type": "code",
   "execution_count": 21,
   "metadata": {},
   "outputs": [
    {
     "data": {
      "text/plain": [
       "[{0: ['<=', 43.5, '<=', 34.5], 1: ['>', 4.5, '<=', 20.5, '>', 8.0, '<=', 9.5]},\n",
       " {0: ['>', 69.5, '>', 70.5, '<=', 77.0, '>', 73.0], 1: ['<=', 4.5, '>', 2.5]},\n",
       " {0: ['>', 43.5], 1: ['>', 4.5, '<=', 24.5, '>', 19.5]},\n",
       " {0: ['>', 43.5], 1: ['>', 4.5, '<=', 24.5, '<=', 19.5, '<=', 5.5]},\n",
       " {0: ['<=', 69.5, '<=', 42.5, '<=', 35.5, '>', 33.5],\n",
       "  1: ['<=', 4.5, '<=', 0.5]},\n",
       " {0: ['>', 69.5, '<=', 70.5], 1: ['<=', 4.5]},\n",
       " {0: ['<=', 43.5, '>', 36.0], 1: ['>', 4.5, '>', 20.5]},\n",
       " {0: ['<=', 69.5, '>', 42.5, '<=', 43.5], 1: ['<=', 4.5, '<=', 1.0]},\n",
       " {0: ['>', 69.5, '>', 70.5, '>', 77.0], 1: ['<=', 4.5]}]"
      ]
     },
     "execution_count": 21,
     "metadata": {},
     "output_type": "execute_result"
    }
   ],
   "source": [
    "dic"
   ]
  },
  {
   "cell_type": "code",
   "execution_count": 22,
   "metadata": {},
   "outputs": [],
   "source": [
    "min_max_dic,gen_dic=TreePathDictionary.sample_generation_dictionary(dic,X_train)"
   ]
  },
  {
   "cell_type": "code",
   "execution_count": 23,
   "metadata": {},
   "outputs": [
    {
     "data": {
      "text/plain": [
       "{0: [30, 78], 1: [0, 46]}"
      ]
     },
     "execution_count": 23,
     "metadata": {},
     "output_type": "execute_result"
    }
   ],
   "source": [
    "min_max_dic"
   ]
  },
  {
   "cell_type": "code",
   "execution_count": 24,
   "metadata": {},
   "outputs": [
    {
     "data": {
      "text/plain": [
       "[{0: [30, 34.5], 1: [8.0, 9.5]},\n",
       " {0: [73.0, 77.0], 1: [2.5, 4.5]},\n",
       " {0: [43.5, 78], 1: [19.5, 24.5]},\n",
       " {0: [43.5, 78], 1: [4.5, 5.5]},\n",
       " {0: [33.5, 35.5], 1: [0, 0.5]},\n",
       " {0: [69.5, 70.5], 1: [0, 4.5]},\n",
       " {0: [36.0, 43.5], 1: [20.5, 46]},\n",
       " {0: [42.5, 43.5], 1: [0, 1.0]},\n",
       " {0: [77.0, 78], 1: [0, 4.5]}]"
      ]
     },
     "execution_count": 24,
     "metadata": {},
     "output_type": "execute_result"
    }
   ],
   "source": [
    "gen_dic"
   ]
  },
  {
   "cell_type": "code",
   "execution_count": 28,
   "metadata": {},
   "outputs": [],
   "source": [
    "generated_samples=SampleGeneration.gen_samples(gen_dic,min_max_dic,X_train,15)#newly generated samples"
   ]
  },
  {
   "cell_type": "code",
   "execution_count": 26,
   "metadata": {
    "collapsed": true
   },
   "outputs": [
    {
     "data": {
      "text/plain": [
       "array([[3.30688834e+01, 8.76972023e+00],\n",
       "       [3.23106862e+01, 9.02687047e+00],\n",
       "       [3.08748504e+01, 8.65860858e+00],\n",
       "       [3.39473418e+01, 9.11834310e+00],\n",
       "       [3.23558281e+01, 9.43304241e+00],\n",
       "       [3.41960583e+01, 8.68437097e+00],\n",
       "       [3.24055428e+01, 9.24755181e+00],\n",
       "       [3.22655589e+01, 8.82448740e+00],\n",
       "       [3.05241598e+01, 8.05388693e+00],\n",
       "       [3.43151517e+01, 9.06001376e+00],\n",
       "       [3.41587818e+01, 8.07466357e+00],\n",
       "       [3.07995398e+01, 8.79197416e+00],\n",
       "       [3.34738663e+01, 8.53261806e+00],\n",
       "       [3.14524500e+01, 9.39373496e+00],\n",
       "       [3.20338693e+01, 9.16845400e+00],\n",
       "       [7.68009113e+01, 3.55981259e+00],\n",
       "       [7.31809401e+01, 3.09569624e+00],\n",
       "       [7.65543527e+01, 3.73089040e+00],\n",
       "       [7.63942986e+01, 2.83516591e+00],\n",
       "       [7.32271303e+01, 4.38344469e+00],\n",
       "       [7.69302370e+01, 3.81414834e+00],\n",
       "       [7.43549713e+01, 3.11245188e+00],\n",
       "       [7.43883791e+01, 3.49825214e+00],\n",
       "       [7.53384042e+01, 2.94772442e+00],\n",
       "       [7.57297160e+01, 3.23244099e+00],\n",
       "       [7.46342702e+01, 2.86512649e+00],\n",
       "       [7.57588864e+01, 3.21359897e+00],\n",
       "       [7.38593352e+01, 3.98993972e+00],\n",
       "       [7.52862968e+01, 3.51751418e+00],\n",
       "       [7.32463641e+01, 3.76130726e+00],\n",
       "       [5.17751723e+01, 2.20652971e+01],\n",
       "       [6.59437041e+01, 2.30893063e+01],\n",
       "       [6.78445952e+01, 2.38551572e+01],\n",
       "       [5.36490942e+01, 2.02436782e+01],\n",
       "       [4.73078014e+01, 2.22307153e+01],\n",
       "       [6.12589026e+01, 2.24161023e+01],\n",
       "       [7.25330552e+01, 2.13951998e+01],\n",
       "       [5.66413044e+01, 1.95272445e+01],\n",
       "       [7.42238163e+01, 2.39355026e+01],\n",
       "       [5.00265100e+01, 2.35486925e+01],\n",
       "       [5.16577871e+01, 2.04598512e+01],\n",
       "       [5.44954686e+01, 2.39319687e+01],\n",
       "       [5.18068638e+01, 2.40111765e+01],\n",
       "       [5.10031747e+01, 2.40430585e+01],\n",
       "       [4.57909762e+01, 2.23387005e+01],\n",
       "       [6.07289631e+01, 5.07543798e+00],\n",
       "       [4.70156347e+01, 4.57053585e+00],\n",
       "       [7.32154770e+01, 4.64362730e+00],\n",
       "       [6.87831890e+01, 5.30109916e+00],\n",
       "       [6.90948771e+01, 5.07956757e+00],\n",
       "       [5.72141404e+01, 5.05862832e+00],\n",
       "       [6.29625026e+01, 5.42815751e+00],\n",
       "       [5.00896155e+01, 5.08095645e+00],\n",
       "       [7.62046632e+01, 5.20759403e+00],\n",
       "       [4.60331466e+01, 4.59888882e+00],\n",
       "       [6.46323707e+01, 5.36744921e+00],\n",
       "       [5.21015445e+01, 4.89699886e+00],\n",
       "       [4.89989237e+01, 5.05056608e+00],\n",
       "       [5.43036805e+01, 5.42713804e+00],\n",
       "       [6.68275495e+01, 5.30565696e+00],\n",
       "       [3.35890821e+01, 3.88079535e-01],\n",
       "       [3.41256081e+01, 4.54671275e-01],\n",
       "       [3.53886518e+01, 1.31297094e-01],\n",
       "       [3.36032838e+01, 1.83607701e-01],\n",
       "       [3.37438515e+01, 1.28925363e-01],\n",
       "       [3.40505638e+01, 6.02259887e-02],\n",
       "       [3.37576763e+01, 4.07809652e-01],\n",
       "       [3.44194947e+01, 2.36831908e-01],\n",
       "       [3.35625130e+01, 4.67887889e-01],\n",
       "       [3.47326865e+01, 1.31815243e-01],\n",
       "       [3.38622543e+01, 3.08569808e-01],\n",
       "       [3.48112786e+01, 2.25969254e-01],\n",
       "       [3.37751054e+01, 1.35211812e-01],\n",
       "       [3.52786553e+01, 3.93586564e-02],\n",
       "       [3.47750964e+01, 7.23891095e-02],\n",
       "       [6.96931500e+01, 3.53086262e+00],\n",
       "       [6.95809044e+01, 2.68500191e+00],\n",
       "       [6.99787333e+01, 2.94714011e+00],\n",
       "       [6.98228863e+01, 4.31290034e+00],\n",
       "       [6.98437330e+01, 2.77737212e+00],\n",
       "       [6.95622115e+01, 2.91839331e+00],\n",
       "       [6.96207129e+01, 3.00515189e+00],\n",
       "       [6.97911139e+01, 3.12656055e+00],\n",
       "       [7.02736889e+01, 2.87062552e+00],\n",
       "       [7.01067678e+01, 1.30981645e-01],\n",
       "       [6.95476797e+01, 3.62816767e+00],\n",
       "       [6.99334431e+01, 4.47639300e+00],\n",
       "       [6.95268381e+01, 4.80578296e-01],\n",
       "       [7.01567944e+01, 1.50366632e-01],\n",
       "       [7.00410354e+01, 2.17494688e+00],\n",
       "       [4.08907714e+01, 3.37331313e+01],\n",
       "       [4.23733117e+01, 3.56203611e+01],\n",
       "       [3.67108093e+01, 3.39193626e+01],\n",
       "       [4.27337360e+01, 4.23823767e+01],\n",
       "       [4.15549080e+01, 2.47041489e+01],\n",
       "       [4.14870742e+01, 4.52045792e+01],\n",
       "       [4.29579334e+01, 3.98668684e+01],\n",
       "       [3.81275130e+01, 3.51871447e+01],\n",
       "       [3.84242734e+01, 2.90823727e+01],\n",
       "       [4.11241490e+01, 3.54454644e+01],\n",
       "       [4.17791881e+01, 2.70595253e+01],\n",
       "       [4.29506262e+01, 4.39089298e+01],\n",
       "       [3.66114989e+01, 2.41758463e+01],\n",
       "       [3.88368219e+01, 3.78614403e+01],\n",
       "       [4.09750365e+01, 2.27376380e+01],\n",
       "       [4.28890102e+01, 7.79901759e-01],\n",
       "       [4.30034053e+01, 4.73528523e-01],\n",
       "       [4.33006473e+01, 1.05823690e-01],\n",
       "       [4.27831250e+01, 2.62817475e-01],\n",
       "       [4.32825821e+01, 7.73346313e-02],\n",
       "       [4.34583735e+01, 4.89511553e-01],\n",
       "       [4.25325324e+01, 5.22459750e-01],\n",
       "       [4.26867119e+01, 5.81742905e-01],\n",
       "       [4.29032060e+01, 3.87638482e-01],\n",
       "       [4.29092997e+01, 3.40954490e-01],\n",
       "       [4.29115099e+01, 8.07703195e-01],\n",
       "       [4.26411220e+01, 2.94473093e-01],\n",
       "       [4.29542275e+01, 3.19573835e-01],\n",
       "       [4.29978318e+01, 4.16683222e-01],\n",
       "       [4.30380485e+01, 6.17178066e-01],\n",
       "       [7.77159564e+01, 3.24325501e+00],\n",
       "       [7.79907939e+01, 3.21000003e+00],\n",
       "       [7.72541826e+01, 2.88433364e+00],\n",
       "       [7.72481201e+01, 3.45713789e+00],\n",
       "       [7.75040197e+01, 4.11895120e+00],\n",
       "       [7.70661487e+01, 3.86707342e+00],\n",
       "       [7.77067324e+01, 1.66976026e+00],\n",
       "       [7.77616905e+01, 1.83075365e+00],\n",
       "       [7.76226853e+01, 2.84995016e+00],\n",
       "       [7.75409414e+01, 8.37669770e-01],\n",
       "       [7.70292769e+01, 1.90464236e+00],\n",
       "       [7.72370311e+01, 3.84520070e-01],\n",
       "       [7.79793706e+01, 1.50107205e+00],\n",
       "       [7.78490050e+01, 1.62468182e+00],\n",
       "       [7.75483295e+01, 1.36995861e+00]])"
      ]
     },
     "execution_count": 26,
     "metadata": {},
     "output_type": "execute_result"
    }
   ],
   "source": [
    "generated_samples"
   ]
  },
  {
   "cell_type": "code",
   "execution_count": 27,
   "metadata": {},
   "outputs": [
    {
     "data": {
      "image/png": "[encoded data removed]",
      "text/plain": [
       "<matplotlib.figure.Figure at 0xb1ef9ae9b0>"
      ]
     },
     "metadata": {},
     "output_type": "display_data"
    }
   ],
   "source": [
    "xx,yy=get_grid(X_train)\n",
    "\n",
    "predicted1=best_tree.predict(np.c_[xx.ravel(),yy.ravel()]).reshape(xx.shape)\n",
    "\n",
    "plt.pcolormesh(xx,yy,predicted1,cmap='autumn')\n",
    "plt.scatter(X_train[:,0],X_train[:,1],c=Y_train,s=11,cmap='autumn',edgecolors='black')\n",
    "plt.scatter(pure_X_train[:,0],pure_X_train[:,1],s=20,cmap='spring',edgecolors='blue')\n",
    "plt.scatter(generated_samples[:,0],generated_samples[:,1],cmap='spring',edgecolors='green')\n",
    "plt.legend()"
   ]
  },
  {
   "cell_type": "code",
   "execution_count": null,
   "metadata": {
    "collapsed": true
   },
   "outputs": [],
   "source": []
  }
 ],
 "metadata": {
  "kernelspec": {
   "display_name": "Python 3",
   "language": "python",
   "name": "python3"
  },
  "language_info": {
   "codemirror_mode": {
    "name": "ipython",
    "version": 3
   },
   "file_extension": ".py",
   "mimetype": "text/x-python",
   "name": "python",
   "nbconvert_exporter": "python",
   "pygments_lexer": "ipython3",
   "version": "3.6.6"
  }
 },
 "nbformat": 4,
 "nbformat_minor": 2
}
